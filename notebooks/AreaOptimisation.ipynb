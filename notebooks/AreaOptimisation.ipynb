{
 "cells": [
  {
   "cell_type": "markdown",
   "metadata": {},
   "source": [
    "# Area Optimisation\n",
    " \n",
    "# Outcome: There is tentatively a 15x15 cm plottable target area.\n",
    "\n",
    "\n",
    "Investigate what setup works best to maximise plottable area"
   ]
  },
  {
   "cell_type": "code",
   "execution_count": 5,
   "metadata": {},
   "outputs": [],
   "source": [
    "import matplotlib.pyplot as plt\n",
    "from celluloid import Camera\n",
    "import numpy as np\n",
    "from tqdm import tqdm\n",
    "import calibration"
   ]
  },
  {
   "cell_type": "code",
   "execution_count": 6,
   "metadata": {},
   "outputs": [
    {
     "name": "stderr",
     "output_type": "stream",
     "text": [
      "100%|██████████| 360/360 [00:00<00:00, 522.77it/s]\n"
     ]
    },
    {
     "data": {
      "image/png": "[encoded data removed]",
      "text/plain": [
       "<Figure size 432x288 with 1 Axes>"
      ]
     },
     "metadata": {
      "needs_background": "light"
     },
     "output_type": "display_data"
    }
   ],
   "source": [
    "maxrange = 160\n",
    "\n",
    "l1 = calibration.l1\n",
    "l2 = calibration.l2\n",
    "\n",
    "a1_disp = calibration.a1_correction\n",
    "a2_disp = calibration.a2_correction\n",
    "\n",
    "dir1 = 1\n",
    "dir2 = -1\n",
    "\n",
    "res = 360 # resolution of line\n",
    "######################################\n",
    "fig, ax = plt.subplots(1,1)\n",
    "camera = Camera(fig)\n",
    "#plt.gca().invert\n",
    "\n",
    "a1s = np.linspace(a1_disp, 180, res)\n",
    "a2s = np.linspace(a2_disp, 180, res)\n",
    "a1s = np.deg2rad(a1s)\n",
    "a2s = np.deg2rad(a2s)\n",
    "\n",
    "a1s+=np.pi/2 \n",
    "\n",
    "if dir1 == -1:\n",
    "    a1s = np.flip(a1s)\n",
    "if dir2 == -1:\n",
    "    a2s = np.flip(a2s)\n",
    "  \n",
    "lines = []\n",
    "for a1 in tqdm(a1s):\n",
    "    xs = []\n",
    "    ys = []\n",
    "    for a2 in a2s:\n",
    "        x1, y1 = -l1*np.cos(a1), l1*np.sin(a1)\n",
    "        x2, y2 = x1-l2*np.cos(a1+a2), y1+l2*np.sin(a1+a2)\n",
    "        xs.append(x2)\n",
    "        ys.append(y2)\n",
    "    lines.append((xs, ys))\n",
    "for (x, y) in lines:\n",
    "    plt.plot(x, y, \"r-\")"
   ]
  },
  {
   "cell_type": "markdown",
   "metadata": {},
   "source": [
    "### Extract outline of plottable area"
   ]
  },
  {
   "cell_type": "code",
   "execution_count": 8,
   "metadata": {},
   "outputs": [
    {
     "data": {
      "text/plain": [
       "[<matplotlib.lines.Line2D at 0x7f0582abe7c0>]"
      ]
     },
     "execution_count": 8,
     "metadata": {},
     "output_type": "execute_result"
    },
    {
     "data": {
      "image/png": "[encoded data removed]",
      "text/plain": [
       "<Figure size 432x288 with 1 Axes>"
      ]
     },
     "metadata": {
      "needs_background": "light"
     },
     "output_type": "display_data"
    }
   ],
   "source": [
    "for (x, y) in lines:\n",
    "    plt.plot(x, y, \"r-\")\n",
    "#plt.gca().invert_xaxis()\n",
    "top = -6\n",
    "bottom = -21\n",
    "left = 2\n",
    "right = 17\n",
    "plt.plot((left, left),(bottom, top))\n",
    "plt.plot((right, right),(bottom, top))\n",
    "plt.plot((left, right),(bottom, bottom))\n",
    "plt.plot((left, right),(top, top))"
   ]
  },
  {
   "cell_type": "code",
   "execution_count": 18,
   "metadata": {
    "jupyter": {
     "source_hidden": true
    }
   },
   "outputs": [],
   "source": [
    "def get_double_joint_lines(x1, y1, x2, y2):\n",
    "    for a,b,c,d in zip(x1, y1, x2, y2):\n",
    "        yield np.array([0, a, c]), np.array([0, b, d])"
   ]
  },
  {
   "cell_type": "code",
   "execution_count": 67,
   "metadata": {
    "collapsed": true,
    "jupyter": {
     "outputs_hidden": true,
     "source_hidden": true
    }
   },
   "outputs": [
    {
     "name": "stderr",
     "output_type": "stream",
     "text": [
      "100%|██████████| 10/10 [00:00<00:00, 96.00it/s]\n"
     ]
    },
    {
     "data": {
      "image/png": "[encoded data removed]",
      "text/plain": [
       "<Figure size 432x288 with 1 Axes>"
      ]
     },
     "metadata": {
      "needs_background": "light"
     },
     "output_type": "display_data"
    }
   ],
   "source": [
    "maxrange = 160\n",
    "\n",
    "l1 = 1\n",
    "l2 = 1\n",
    "\n",
    "a1_disp = 30\n",
    "a2_disp = 30\n",
    "\n",
    "dir1 = 1\n",
    "dir2 = -1\n",
    "\n",
    "res = 10\n",
    "######################################\n",
    "fig, ax = plt.subplots(1,1)\n",
    "camera = Camera(fig)\n",
    "plt.gca().invert_xaxis()\n",
    "a1s = np.linspace(a1_disp, a1_disp+maxrange, res)\n",
    "a2s = np.linspace(a2_disp, a2_disp+maxrange, res)\n",
    "a1s = np.deg2rad(a1s)\n",
    "a2s = np.deg2rad(a2s)\n",
    "a1s+=np.pi/2\n",
    "if dir1 == -1:\n",
    "    a1s = np.flip(a1s)\n",
    "if dir2 == -1:\n",
    "    a2s = np.flip(a2s)\n",
    "    \n",
    "for a1 in tqdm(a1s):\n",
    "    x1s, x2s = [], []\n",
    "    y1s, y2s = [], []\n",
    "    for a2 in a2s:\n",
    "        x1, y1 = l1*np.cos(a1), l1*np.sin(a1)\n",
    "        x2, y2 = x1+l2*np.cos(a1+a2), y1+l2*np.sin(a1+a2)\n",
    "        x1s.append(x1)\n",
    "        y1s.append(y1)\n",
    "        x2s.append(x2)\n",
    "        y2s.append(y2)\n",
    "    for x, y in get_double_joint_lines(x1s, y1s, x2s, y2s):\n",
    "        ax.plot(x, y, \"r-\")\n",
    "        camera.snap()\n",
    "        \n",
    "animation = camera.animate()\n",
    "animation.save(f'anim.gif', writer = 'imagemagick')"
   ]
  }
 ],
 "metadata": {
  "kernelspec": {
   "display_name": "Python 3",
   "language": "python",
   "name": "python3"
  },
  "language_info": {
   "codemirror_mode": {
    "name": "ipython",
    "version": 3
   },
   "file_extension": ".py",
   "mimetype": "text/x-python",
   "name": "python",
   "nbconvert_exporter": "python",
   "pygments_lexer": "ipython3",
   "version": "3.8.1"
  }
 },
 "nbformat": 4,
 "nbformat_minor": 4
}
