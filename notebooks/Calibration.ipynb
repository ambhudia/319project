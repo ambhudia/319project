{
 "cells": [
  {
   "cell_type": "markdown",
   "metadata": {},
   "source": [
    "## Find angles between lines (I used this to calibrate my angles, since my AR app was not working very well. Coordinates you see are pixel coordinates I got off of GIMP)"
   ]
  },
  {
   "cell_type": "code",
   "execution_count": 55,
   "metadata": {},
   "outputs": [],
   "source": [
    "import math\n",
    "\n",
    "def angles(p1, p2, p3, p4):\n",
    "    m1 = (p2[1]-p1[1])/((p2[0]-p1[0]))\n",
    "    m2 = (p4[1]-p3[1])/((p4[0]-p3[0]))\n",
    "\n",
    "    angle = abs(math.degrees(math.atan((m2-m1)/(1+m1*m2))))\n",
    "    return min(abs(180-angle), angle)"
   ]
  },
  {
   "cell_type": "code",
   "execution_count": 61,
   "metadata": {},
   "outputs": [
    {
     "name": "stdout",
     "output_type": "stream",
     "text": [
      "4.952511035901741\n",
      "14.16934273049585\n"
     ]
    }
   ],
   "source": [
    "p1 = (443,433)\n",
    "p2 = (369,2041)\n",
    "p3 = (589, 1410)\n",
    "p4 = (727, 374)\n",
    "p5 = (844, 1388)\n",
    "\n",
    "print(angles(p1, p2, p3, p4))\n",
    "print(angles(p3, p4, p4, p5))"
   ]
  },
  {
   "cell_type": "code",
   "execution_count": 62,
   "metadata": {},
   "outputs": [
    {
     "name": "stdout",
     "output_type": "stream",
     "text": [
      "79.21113597953509\n",
      "84.79906637542962\n"
     ]
    }
   ],
   "source": [
    "p1 = (262, 397)\n",
    "p2 = (259, 1527)\n",
    "p3 = (248, 955)\n",
    "p4 = (855, 841)\n",
    "p5 = (912, 1440)\n",
    "\n",
    "print(angles(p1, p2, p3, p4))\n",
    "print(angles(p3, p4, p4, p5))"
   ]
  },
  {
   "cell_type": "code",
   "execution_count": 63,
   "metadata": {},
   "outputs": [
    {
     "name": "stdout",
     "output_type": "stream",
     "text": [
      "113.17041915855883\n",
      "125.0221538718897\n"
     ]
    }
   ],
   "source": [
    "p1 = (217, 321)\n",
    "p2 = (236, 1518)\n",
    "p3 = (216, 861)\n",
    "p4 = (773, 1089)\n",
    "p5 = (903, 1663)\n",
    "print(180-angles(p1, p2, p3, p4))\n",
    "print(180-angles(p3, p4, p4, p5))"
   ]
  },
  {
   "cell_type": "code",
   "execution_count": 82,
   "metadata": {},
   "outputs": [],
   "source": [
    "a1_initial = 4.952511035901741\n",
    "a2_initial = 14.16934273049585"
   ]
  },
  {
   "cell_type": "code",
   "execution_count": 83,
   "metadata": {},
   "outputs": [],
   "source": [
    "a1_90_deflection = 79.21113597953509-a1_initial\n",
    "a2_90_deflection = 84.79906637542962-a2_initial"
   ]
  },
  {
   "cell_type": "code",
   "execution_count": 84,
   "metadata": {},
   "outputs": [
    {
     "data": {
      "text/plain": [
       "(74.25862494363335, 70.62972364493376)"
      ]
     },
     "execution_count": 84,
     "metadata": {},
     "output_type": "execute_result"
    }
   ],
   "source": [
    "a1_90_deflection, a2_90_deflection"
   ]
  },
  {
   "cell_type": "code",
   "execution_count": 85,
   "metadata": {},
   "outputs": [],
   "source": [
    "a1_135_deflection = 113.17041915855883-a1_initial\n",
    "a2_135_deflection = 125.0221538718897-a2_initial"
   ]
  },
  {
   "cell_type": "code",
   "execution_count": 86,
   "metadata": {},
   "outputs": [
    {
     "data": {
      "text/plain": [
       "(108.2179081226571, 110.85281114139384)"
      ]
     },
     "execution_count": 86,
     "metadata": {},
     "output_type": "execute_result"
    }
   ],
   "source": [
    "a1_135_deflection, a2_135_deflection"
   ]
  },
  {
   "cell_type": "markdown",
   "metadata": {},
   "source": [
    "## Naively, I will just average these two and get a correction factor"
   ]
  },
  {
   "cell_type": "code",
   "execution_count": 87,
   "metadata": {},
   "outputs": [],
   "source": [
    "a1_correction = 1/((a1_90_deflection/90 + a1_135_deflection/135)/2)\n",
    "a2_correction = 1/((a2_90_deflection/90 + a2_135_deflection/135)/2)"
   ]
  },
  {
   "cell_type": "code",
   "execution_count": 88,
   "metadata": {},
   "outputs": [
    {
     "data": {
      "text/plain": [
       "(1.2294754692818421, 1.245402408992984)"
      ]
     },
     "execution_count": 88,
     "metadata": {},
     "output_type": "execute_result"
    }
   ],
   "source": [
    "a1_correction, a2_correction"
   ]
  }
 ],
 "metadata": {
  "kernelspec": {
   "display_name": "Python 3",
   "language": "python",
   "name": "python3"
  },
  "language_info": {
   "codemirror_mode": {
    "name": "ipython",
    "version": 3
   },
   "file_extension": ".py",
   "mimetype": "text/x-python",
   "name": "python",
   "nbconvert_exporter": "python",
   "pygments_lexer": "ipython3",
   "version": "3.8.1"
  }
 },
 "nbformat": 4,
 "nbformat_minor": 4
}
