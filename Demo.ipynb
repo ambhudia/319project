{
 "cells": [
  {
   "cell_type": "markdown",
   "metadata": {},
   "source": [
    "# I have not really had much time to clean up the code\n",
    "\n",
    "But what I can do is try to walk you through how to use this thing. incidentally this is also the demo code I used for my project presentation."
   ]
  },
  {
   "cell_type": "markdown",
   "metadata": {},
   "source": [
    "## 1. Program a drawing\n",
    "\n",
    "Essentially, you use your mouse to trace over you favourite drawing, or a blank canvas.\n",
    "Hold down the 'x' key and move the mouse to make your stroke. Release it to stop the stroke. Press it down again to create another stroke. Close the window when you're done."
   ]
  },
  {
   "cell_type": "code",
   "execution_count": 82,
   "metadata": {},
   "outputs": [],
   "source": [
    "import drawing\n",
    "import numpy as np\n",
    "from PIL import Image\n",
    "import matplotlib.pyplot as plt\n",
    "import pickle\n",
    "\n",
    "# Uncomment these to use PIL to open your favourite picture in the pics folder\n",
    "#img = Image.open(\"jo_mama.jpeg\")  \n",
    "#img = np.asarray(img)[:,:,0]\n",
    "\n",
    "img = np.zeros([600,600])  # or just use a blank canvas\n",
    "\n",
    "%matplotlib qt # You want to use the matplotlib GTK pyQT GUI for this\n",
    "\n",
    "d = drawing.Drawing(img)  # This is how you make your drawing!\n",
    "strokes = d.get_strokes() # get out whatever you did here\n",
    "\n",
    "xs, ys = strokes[0], strokes[1]\n",
    "\n",
    "%matplotlib inline  # Ayy go back to plotting stuff in the notebook\n",
    "for a,b in zip(xs,ys):   # maybe you want to see what you did?\n",
    "    plt.plot(a,b, \"r-\")\n",
    "\n",
    "strokes = []\n",
    "scale = max(d.get_dims()) # here I am scaling this using the data in the calibration.py file, and my \n",
    "                          # own preferences of fitting my demo drawing onto a sticky note sized area\n",
    "for a,b in zip(xs,ys):\n",
    "    a = 7*(a/scale)+9     # xmin = 9,    xmax = 9+7\n",
    "    b = -7*(b/scale)-5    # ymin = -5-7, xmax = -5\n",
    "    strokes.append((a,b))\n",
    "\n",
    "for (a,b) in strokes:   # maybe you want to see your scaled image\n",
    "    plt.plot(a,b,\"r-\")\n",
    "\n",
    "pickle.dump(strokes, open( \"your_filename_here.p\", \"wb\" ) )  # Save it as a pickle for later use! why draw\n",
    "                                                             # again when you can save your masterpiece?"
   ]
  },
  {
   "cell_type": "markdown",
   "metadata": {},
   "source": [
    "## Initialise picosso\n",
    "\n",
    "Import all the stuff you need, and initiate serial communication"
   ]
  },
  {
   "cell_type": "code",
   "execution_count": 15,
   "metadata": {},
   "outputs": [],
   "source": [
    "import serial\n",
    "from time import sleep\n",
    "from calibration import scale_angles, l1, l2\n",
    "from inv_kinematics import InvKinematics\n",
    "import numpy as np\n",
    "import pickle\n",
    "\n",
    "\n",
    "port = \"/dev/ttyACM3\" # this is my port on a linux machine. you may need to change \n",
    "                      # this depending on your platform\n",
    "robot = serial.Serial(port, 9600) \n",
    "k = InvKinematics(l1,l2)      # Define the robot's arm lengths\n",
    "robot.write(f\"r\\n\".encode())  # Raise the pen\n",
    "sleep(1)                      # Wait, let thing settle  \n",
    "robot.reset_input_buffer()    # purge the serial buffers, or the robot freezes\n",
    "robot.reset_output_buffer()"
   ]
  },
  {
   "cell_type": "markdown",
   "metadata": {},
   "source": [
    "## Draw"
   ]
  },
  {
   "cell_type": "code",
   "execution_count": 18,
   "metadata": {},
   "outputs": [
    {
     "data": {
      "text/plain": [
       "5"
      ]
     },
     "execution_count": 18,
     "metadata": {},
     "output_type": "execute_result"
    }
   ],
   "source": [
    "# Remember the pickled drawings?\n",
    "# just load one of those!\n",
    "drawing = \"ein\"\n",
    "#drawing = \"birb\"\n",
    "#drawing = \"doge\"\n",
    "#drawing = \"flamingo\"\n",
    "\n",
    "strokes = pickle.load(open(f\"drawings/{drawing}.p\", 'rb'))\n",
    "\n",
    "i = 0 # lets us know how many serial commands have been sent. \n",
    "      # serial budffers need to be purged regularly to prevent freezing\n",
    "for (a,b) in strokes:\n",
    "    new = True # flag for new stroke just activated\n",
    "    for x, y in zip(a,b):\n",
    "        a1, a2 = k.invert(x, y)          # invert to ideal real world angles\n",
    "        a1, a2 = scale_angles(a1, a2)    # scale to corresponding servo angles\n",
    "        robot.write(f\"a{a1}\\n\".encode()) # send the robot the angles\n",
    "        robot.write(f\"b{a2}\\n\".encode())\n",
    "        if new:         # move pen while its raised\n",
    "            sleep(0.5)  # wait for vibrations of arm to die out, since this is a new stroke\n",
    "            new = False \n",
    "            robot.write(\"l\\n\".encode())\n",
    "            sleep(0.5)  # lower the pen, and chill. you dont want erratic arcs on the paper.\n",
    "        i += 1      # increment accumulator\n",
    "        if i >= 10: # and clear buffers\n",
    "            robot.reset_input_buffer()\n",
    "            robot.reset_output_buffer()\n",
    "            i = 0\n",
    "        sleep(0.05) # avoid overloading the serial. Chill a bit\n",
    "    robot.reset_input_buffer()   # after each stroke, clear buffers. Why not?\n",
    "    robot.reset_output_buffer()\n",
    "    robot.write(\"r\\n\".encode())  # Stroke ended. Raise the pen!\n",
    "\n",
    "\n",
    "robot.write(f\"a{180}\\n\".encode()) # the drawing is done! return robot to neutral position\n",
    "robot.write(f\"b{180}\\n\".encode()) # and unveil your drawing!"
   ]
  }
 ],
 "metadata": {
  "kernelspec": {
   "display_name": "Python 3",
   "language": "python",
   "name": "python3"
  },
  "language_info": {
   "codemirror_mode": {
    "name": "ipython",
    "version": 3
   },
   "file_extension": ".py",
   "mimetype": "text/x-python",
   "name": "python",
   "nbconvert_exporter": "python",
   "pygments_lexer": "ipython3",
   "version": "3.8.1"
  }
 },
 "nbformat": 4,
 "nbformat_minor": 4
}
